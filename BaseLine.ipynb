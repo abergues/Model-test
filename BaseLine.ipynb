{
 "cells": [
  {
   "cell_type": "code",
   "execution_count": 1,
   "id": "ec6ada59",
   "metadata": {},
   "outputs": [],
   "source": [
    "import tensorflow as tf\n",
    "from tensorflow import keras\n",
    "from tensorflow.keras import models, layers\n",
    "import numpy as np\n",
    "import pandas as pd\n",
    "import matplotlib.pyplot as plt"
   ]
  },
  {
   "cell_type": "code",
   "execution_count": 7,
   "id": "c0ae46a7",
   "metadata": {},
   "outputs": [
    {
     "name": "stdout",
     "output_type": "stream",
     "text": [
      "     clip_name  frame_nr  person_id   nose_x   nose_y    neck_x   neck_y  \\\n",
      "0  1P-Ana-780p         0          0  384.510  374.092  0.901934  394.898   \n",
      "1  1P-Ana-780p         1          0  384.434  377.367  0.901137  387.966   \n",
      "2  1P-Ana-780p         2          0  380.987  380.877  0.900104  384.482   \n",
      "3  1P-Ana-780p         3          0  377.540  380.978  0.915440  381.021   \n",
      "4  1P-Ana-780p         4          0  377.356  384.518  0.906092  377.552   \n",
      "\n",
      "   rshoulder_x  rshoulder_y  relbow_x  ...  lheal_x  lheal_y  rbigtoe_x  \\\n",
      "0      429.678     0.893129   321.665  ...  384.394  988.314   0.811540   \n",
      "1      429.738     0.888454   321.519  ...  380.976  988.174   0.793082   \n",
      "2      429.951     0.903180   321.452  ...  377.537  991.723   0.835229   \n",
      "3      433.336     0.921297   318.180  ...  377.392  995.303   0.817230   \n",
      "4      436.751     0.920972   314.689  ...  377.343  998.704   0.834323   \n",
      "\n",
      "   rbigtoe_y  rsmalltoe_x  rsmalltoe_y  rheal_x  rheal_y  label  status  \n",
      "0    373.889      353.133     0.893116  405.259  356.567    NaN     NaN  \n",
      "1    373.905      356.539     0.888066  402.035  363.468    NaN     NaN  \n",
      "2    373.770      366.937     0.867546  401.918  370.387    NaN     NaN  \n",
      "3    366.995      370.410     0.859811  401.695  370.472    NaN     NaN  \n",
      "4    360.008      373.856     0.882949  398.252  373.847    NaN     NaN  \n",
      "\n",
      "[5 rows x 55 columns]\n"
     ]
    }
   ],
   "source": [
    "# Import the data\n",
    "PATH_DATA = \"../Model-test/Data.csv\"\n",
    "data = pd.read_csv(PATH_DATA)\n",
    "print(data.head())\n",
    "no_sample = 5"
   ]
  },
  {
   "cell_type": "code",
   "execution_count": 8,
   "id": "a73b6f60",
   "metadata": {
    "scrolled": true
   },
   "outputs": [
    {
     "name": "stdout",
     "output_type": "stream",
     "text": [
      "[101, 184, 273, 355, 446, 526, 613, 700, 789, 875]\n",
      "[183, 272, 354, 445, 525, 612, 699, 788, 874, 961]\n"
     ]
    }
   ],
   "source": [
    "# Data preprocessing, get the input X and the label y\n",
    "ind_start = data[data['status'] == \"S\"].index.tolist()\n",
    "ind_end = data[data['status'] == \"E\"].index.tolist()\n",
    "\n",
    "print(ind_start)\n",
    "print(ind_end)"
   ]
  },
  {
   "cell_type": "code",
   "execution_count": 9,
   "id": "054132a1",
   "metadata": {},
   "outputs": [
    {
     "name": "stdout",
     "output_type": "stream",
     "text": [
      "      nose_x   nose_y    neck_x   neck_y  rshoulder_x  rshoulder_y  relbow_x  \\\n",
      "101  408.934  398.255  0.868333  415.796      496.197     0.849269   346.164   \n",
      "102  405.557  391.469  0.873200  412.340      496.094     0.863101   346.068   \n",
      "103  405.467  391.460  0.885386  408.929      492.767     0.884072   345.938   \n",
      "104  405.457  394.854  0.894966  408.929      496.082     0.881643   345.934   \n",
      "105  405.338  398.315  0.919749  408.899      496.098     0.882404   345.896   \n",
      "\n",
      "     relbow_y  rwrist_x  rwrist_y  ...  lsmalltoe_x  lsmalltoe_y  lheal_x  \\\n",
      "101   499.584  0.888893   293.742  ...      880.196     0.885451  426.357   \n",
      "102   496.149  0.898450   293.764  ...      887.094     0.857975  405.472   \n",
      "103   496.163  0.876817   293.847  ...      897.472     0.803724  405.399   \n",
      "104   496.146  0.879655   293.797  ...      897.431     0.796370  405.306   \n",
      "105   496.146  0.870555   293.695  ...      897.525     0.787503  401.913   \n",
      "\n",
      "     lheal_y  rbigtoe_x  rbigtoe_y  rsmalltoe_x  rsmalltoe_y  rheal_x  rheal_y  \n",
      "101  1058.07   0.767032    398.433      381.046     0.889630  429.852  380.983  \n",
      "102  1075.46   0.757737    398.263      380.880     0.888577  429.752  377.653  \n",
      "103  1082.57   0.764807    394.866      380.891     0.879725  429.673  377.633  \n",
      "104  1096.41   0.770724    394.832      380.882     0.880859  429.656  377.615  \n",
      "105  1092.94   0.726420    387.995      381.010     0.862999  426.347  380.945  \n",
      "\n",
      "[5 rows x 50 columns]\n",
      "Label is basic\n",
      "      nose_x   nose_y    neck_x   neck_y  rshoulder_x  rshoulder_y  relbow_x  \\\n",
      "184  475.151  408.878  0.882906  485.491      513.435     0.926114   412.304   \n",
      "185  471.658  408.836  0.880090  485.443      513.380     0.915045   408.918   \n",
      "186  468.277  405.415  0.910689  482.134      513.403     0.913286   405.546   \n",
      "187  464.743  405.487  0.922519  482.044      513.411     0.905415   405.426   \n",
      "188  468.140  402.031  0.919301  478.608      510.143     0.877477   405.378   \n",
      "\n",
      "     relbow_y  rwrist_x  rwrist_y  ...  lsmalltoe_x  lsmalltoe_y  lheal_x  \\\n",
      "184   513.401  0.873516   377.433  ...      904.328     0.851597  492.735   \n",
      "185   510.136  0.883339   377.411  ...      904.504     0.851644  492.621   \n",
      "186   513.409  0.898366   373.858  ...      904.491     0.836495  492.598   \n",
      "187   513.451  0.918094   370.333  ...      904.530     0.869990  489.130   \n",
      "188   513.382  0.920977   356.528  ...      897.543     0.866538  485.727   \n",
      "\n",
      "     lheal_y  rbigtoe_x  rbigtoe_y  rsmalltoe_x  rsmalltoe_y  rheal_x  rheal_y  \n",
      "184  1026.68   0.716684    457.873      401.952     0.968212  489.157  401.874  \n",
      "185  1026.67   0.715586    457.790      401.893     0.960836  489.080  401.839  \n",
      "186  1030.18   0.733664    457.745      401.721     0.935172  489.041  401.694  \n",
      "187  1044.14   0.828052    457.566      401.738     0.918513  485.709  401.700  \n",
      "188  1047.74   0.816008    457.578      398.285     0.884262  485.765  394.932  \n",
      "\n",
      "[5 rows x 50 columns]\n",
      "Label is basic\n",
      "      nose_x   nose_y    neck_x   neck_y  rshoulder_x  rshoulder_y  relbow_x  \\\n",
      "273  485.645  398.342  0.942561  509.979      492.774     0.851664   436.785   \n",
      "274  485.471  398.335  0.918214  503.098      492.629     0.845403   433.496   \n",
      "275  482.026  394.872  0.875322  496.209      489.276     0.862193   433.509   \n",
      "276  475.152  391.429  0.847616  496.120      489.194     0.874125   433.484   \n",
      "277  468.165  384.450  0.862171  492.712      489.075     0.894593   436.756   \n",
      "\n",
      "     relbow_y  rwrist_x  rwrist_y  ...  lsmalltoe_x  lsmalltoe_y  lheal_x  \\\n",
      "273   510.068  0.881473   433.332  ...      911.514     0.821777  593.767   \n",
      "274   510.112  0.886383   433.389  ...      921.968     0.858687  593.858   \n",
      "275   509.963  0.857704   433.315  ...      928.892     0.883538  593.806   \n",
      "276   509.951  0.848440   433.352  ...      928.953     0.852513  593.699   \n",
      "277   506.550  0.833786   433.425  ...      932.293     0.813959  576.472   \n",
      "\n",
      "     lheal_y  rbigtoe_x  rbigtoe_y  rsmalltoe_x  rsmalltoe_y  rheal_x  rheal_y  \n",
      "273  1082.49   0.690529    468.227      380.980     0.872916  506.568  377.568  \n",
      "274  1103.42   0.750399    464.699      380.990     0.905414  499.644  377.543  \n",
      "275  1124.32   0.756852    461.308      377.600     0.942617  492.753  377.413  \n",
      "276  1148.84   0.716110    461.119      377.488     0.967740  492.569  377.348  \n",
      "277  1169.70   0.645469    457.759      377.343     0.978411  489.104  374.015  \n",
      "\n",
      "[5 rows x 50 columns]\n",
      "Label is right-turn\n",
      "      nose_x   nose_y    neck_x   neck_y  rshoulder_x  rshoulder_y  relbow_x  \\\n",
      "355  527.593  380.984  0.868334  545.119      489.156     0.929717   478.630   \n",
      "356  520.642  377.631  0.908147  544.900      489.151     0.942801   471.744   \n",
      "357  517.053  377.566  0.973550  541.544      489.025     0.945832   468.225   \n",
      "358  513.628  377.369  0.972385  541.418      485.726     0.943153   464.843   \n",
      "359  513.404  374.059  0.963104  541.320      485.618     0.918713   468.185   \n",
      "\n",
      "     relbow_y  rwrist_x  rwrist_y  ...  lsmalltoe_x  lsmalltoe_y  lheal_x  \\\n",
      "355   492.728  0.851540   457.855  ...      935.811     0.831889  576.363   \n",
      "356   492.748  0.841040   457.815  ...      936.063     0.871012  597.221   \n",
      "357   492.707  0.853779   461.164  ...      932.467     0.845087  597.347   \n",
      "358   492.589  0.870062   464.680  ...      932.438     0.888323  593.858   \n",
      "359   489.223  0.869984   482.188  ...      935.899     0.882904  593.753   \n",
      "\n",
      "     lheal_y  rbigtoe_x  rbigtoe_y  rsmalltoe_x  rsmalltoe_y  rheal_x  rheal_y  \n",
      "355  1054.55   0.618406    513.666      373.972     0.955858  545.145  373.862  \n",
      "356  1110.39   0.680697    513.458      373.828     0.918719  544.908  370.539  \n",
      "357  1127.80   0.763755    506.576      373.755     0.862700  541.449  370.410  \n",
      "358  1124.30   0.747341    496.186      370.355     0.841281  538.008  363.468  \n",
      "359  1148.78   0.717297    492.674      363.466     0.867669  534.569  356.535  \n",
      "\n",
      "[5 rows x 50 columns]\n",
      "Label is right-turn\n",
      "      nose_x   nose_y    neck_x   neck_y  rshoulder_x  rshoulder_y  relbow_x  \\\n",
      "446  447.250  412.308  0.837813  464.777      461.191     0.910840   394.908   \n",
      "447  450.700  408.983  0.850484  468.164      461.228     0.901633   398.330   \n",
      "448  454.208  408.975  0.867960  475.145      461.206     0.897258   401.823   \n",
      "449  457.572  408.951  0.890604  482.137      461.152     0.924300   405.359   \n",
      "450  457.802  408.853  0.917081  485.618      461.134     0.961144   408.955   \n",
      "\n",
      "     relbow_y  rwrist_x  rwrist_y  ...  lsmalltoe_x  lsmalltoe_y  lheal_x  \\\n",
      "446   461.412  0.855896   349.621  ...      873.110     0.806983  544.979   \n",
      "447   464.657  0.868020   353.094  ...      876.409     0.858675  569.374   \n",
      "448   461.392  0.903857   363.466  ...      872.992     0.808630  579.931   \n",
      "449   461.330  0.905631   370.476  ...      869.511     0.812238  597.411   \n",
      "450   461.405  0.868674   374.017  ...      876.710     0.872394  604.398   \n",
      "\n",
      "     lheal_y  rbigtoe_x  rbigtoe_y  rsmalltoe_x  rsmalltoe_y  rheal_x  rheal_y  \n",
      "446  1019.69   0.807883    429.716      398.295     0.898446  461.206  394.846  \n",
      "447  1023.22   0.837451    429.793      398.304     0.905499  461.287  394.823  \n",
      "448  1019.81   0.784556    429.925      398.346     0.907528  464.647  391.427  \n",
      "449  1019.68   0.851488    433.284      398.319     0.899678  468.142  391.437  \n",
      "450  1026.65   0.760708    436.752      398.296     0.871582  475.124  391.345  \n",
      "\n",
      "[5 rows x 50 columns]\n",
      "Label is side\n"
     ]
    }
   ],
   "source": [
    "X = []\n",
    "y = []\n",
    "\n",
    "for i in range(no_sample):\n",
    "    X.append(data.iloc[ind_start[i]: ind_end[i], 3:-2])\n",
    "    print(X[i].head())\n",
    "    y.append(data.loc[ind_start[i], 'label'])\n",
    "    print(f'Label is {y[i]}')"
   ]
  },
  {
   "cell_type": "code",
   "execution_count": 5,
   "id": "64b11ebf",
   "metadata": {},
   "outputs": [],
   "source": [
    "# Define hyperparameters\n",
    "IMG_SIZE = 224\n",
    "BATCH_SIZE = 64\n",
    "EPOCHS = 10\n",
    "\n",
    "MAX_SEQ_LENGTH = 2   # number of frames\n",
    "NUM_FEATURES = 50     # number of join coordinates"
   ]
  },
  {
   "cell_type": "code",
   "execution_count": 10,
   "id": "c2706947",
   "metadata": {},
   "outputs": [
    {
     "name": "stdout",
     "output_type": "stream",
     "text": [
      "[array([124, 143]), array([185, 233]), array([293, 311]), array([363, 422]), array([452, 485])]\n"
     ]
    }
   ],
   "source": [
    "ind_samp = []\n",
    "\n",
    "for i in range(no_sample):\n",
    "    aux = np.random.randint(ind_start[i], ind_end[i], MAX_SEQ_LENGTH)\n",
    "    aux.sort()\n",
    "    ind_samp.append(aux) \n",
    "    \n",
    "print(ind_samp)    \n"
   ]
  },
  {
   "cell_type": "code",
   "execution_count": 11,
   "id": "a9a09cb8",
   "metadata": {},
   "outputs": [],
   "source": [
    "# Fixing format of the data\n",
    "def enc_label(label):\n",
    "    code = 0\n",
    "    if label == \"right-turn\":\n",
    "        code = 1\n",
    "    if label == \"side\":\n",
    "        code = 2\n",
    "    if label == \"cuban-basic\":\n",
    "        code = 3\n",
    "    if label == \"suzie-q\":\n",
    "        code = 4\n",
    "    return code"
   ]
  },
  {
   "cell_type": "code",
   "execution_count": 17,
   "id": "f7e5ac8f",
   "metadata": {},
   "outputs": [
    {
     "name": "stdout",
     "output_type": "stream",
     "text": [
      "(5, 2, 50)\n"
     ]
    }
   ],
   "source": [
    "X_train = [x.loc[ind_samp[ind], :].to_numpy() for (ind, x) in enumerate(X)]\n",
    "X_train = np.array(X_train)\n",
    "\n",
    "#X_train = X.loc[ind_samp, :].to_numpy()\n",
    "print(X_train.shape)"
   ]
  },
  {
   "cell_type": "code",
   "execution_count": 18,
   "id": "6eec013b",
   "metadata": {},
   "outputs": [
    {
     "name": "stdout",
     "output_type": "stream",
     "text": [
      "(5, 2, 50)\n"
     ]
    }
   ],
   "source": [
    "X_train = X_train.reshape(no_sample, MAX_SEQ_LENGTH, NUM_FEATURES).astype(\"float32\")\n",
    "print(X_train.shape)"
   ]
  },
  {
   "cell_type": "code",
   "execution_count": 19,
   "id": "c88049a9",
   "metadata": {
    "scrolled": true
   },
   "outputs": [
    {
     "name": "stdout",
     "output_type": "stream",
     "text": [
      "['basic', 'basic', 'right-turn', 'right-turn', 'side']\n"
     ]
    }
   ],
   "source": [
    "print(y)"
   ]
  },
  {
   "cell_type": "code",
   "execution_count": 29,
   "id": "28432fde",
   "metadata": {},
   "outputs": [],
   "source": [
    "#y_train = enc_label(y)\n",
    "#y_train = np.array(y_train).astype(\"float32\")\n",
    "\n",
    "y_train = [enc_label(x) for x in y]\n",
    "y_train = np.array(y_train).astype(\"float32\")"
   ]
  },
  {
   "cell_type": "code",
   "execution_count": 30,
   "id": "18a93710",
   "metadata": {
    "scrolled": true
   },
   "outputs": [
    {
     "name": "stdout",
     "output_type": "stream",
     "text": [
      "[0. 0. 1. 1. 2.]\n"
     ]
    }
   ],
   "source": [
    "print(y_train)"
   ]
  },
  {
   "cell_type": "code",
   "execution_count": 31,
   "id": "16037618",
   "metadata": {},
   "outputs": [
    {
     "name": "stdout",
     "output_type": "stream",
     "text": [
      "<class 'numpy.ndarray'>\n",
      "<class 'numpy.ndarray'>\n"
     ]
    }
   ],
   "source": [
    "print(type(X_train))\n",
    "print(type(y_train))"
   ]
  },
  {
   "cell_type": "code",
   "execution_count": 39,
   "id": "ef497e65",
   "metadata": {},
   "outputs": [
    {
     "name": "stdout",
     "output_type": "stream",
     "text": [
      "Model: \"sequential_4\"\n",
      "_________________________________________________________________\n",
      " Layer (type)                Output Shape              Param #   \n",
      "=================================================================\n",
      " flatten_4 (Flatten)         (None, 100)               0         \n",
      "                                                                 \n",
      " dense_8 (Dense)             (None, 64)                6464      \n",
      "                                                                 \n",
      " dense_9 (Dense)             (None, 5)                 325       \n",
      "                                                                 \n",
      "=================================================================\n",
      "Total params: 6,789\n",
      "Trainable params: 6,789\n",
      "Non-trainable params: 0\n",
      "_________________________________________________________________\n"
     ]
    }
   ],
   "source": [
    "model = models.Sequential()\n",
    "model.add(layers.Flatten(input_shape=(MAX_SEQ_LENGTH, NUM_FEATURES)))\n",
    "model.add(layers.Dense(64, activation=\"relu\"))\n",
    "model.add(layers.Dense(5, activation=\"softmax\"))\n",
    "model.summary()"
   ]
  },
  {
   "cell_type": "code",
   "execution_count": 40,
   "id": "fdde85bf",
   "metadata": {},
   "outputs": [],
   "source": [
    "# Compile the model\n",
    "model.compile(\n",
    "    optimizer=\"adam\",\n",
    "    loss=\"sparse_categorical_crossentropy\",\n",
    "    metrics=[\"accuracy\"]\n",
    ")"
   ]
  },
  {
   "cell_type": "code",
   "execution_count": 41,
   "id": "2cba0693",
   "metadata": {
    "scrolled": true
   },
   "outputs": [
    {
     "name": "stdout",
     "output_type": "stream",
     "text": [
      "Epoch 1/10\n",
      "1/1 [==============================] - 1s 525ms/step - loss: 717.9631 - accuracy: 0.0000e+00 - val_loss: 565.9884 - val_accuracy: 0.0000e+00\n",
      "Epoch 2/10\n",
      "1/1 [==============================] - 0s 37ms/step - loss: 565.9884 - accuracy: 0.0000e+00 - val_loss: 421.3239 - val_accuracy: 0.0000e+00\n",
      "Epoch 3/10\n",
      "1/1 [==============================] - 0s 38ms/step - loss: 421.3239 - accuracy: 0.0000e+00 - val_loss: 358.1677 - val_accuracy: 0.2000\n",
      "Epoch 4/10\n",
      "1/1 [==============================] - 0s 50ms/step - loss: 358.1677 - accuracy: 0.2000 - val_loss: 310.4888 - val_accuracy: 0.4000\n",
      "Epoch 5/10\n",
      "1/1 [==============================] - 0s 52ms/step - loss: 310.4888 - accuracy: 0.4000 - val_loss: 253.1609 - val_accuracy: 0.4000\n",
      "Epoch 6/10\n",
      "1/1 [==============================] - 0s 39ms/step - loss: 253.1609 - accuracy: 0.4000 - val_loss: 186.8569 - val_accuracy: 0.4000\n",
      "Epoch 7/10\n",
      "1/1 [==============================] - 0s 68ms/step - loss: 186.8569 - accuracy: 0.4000 - val_loss: 118.7767 - val_accuracy: 0.2000\n",
      "Epoch 8/10\n",
      "1/1 [==============================] - 0s 57ms/step - loss: 118.7767 - accuracy: 0.2000 - val_loss: 51.2180 - val_accuracy: 0.2000\n",
      "Epoch 9/10\n",
      "1/1 [==============================] - 0s 44ms/step - loss: 51.2180 - accuracy: 0.2000 - val_loss: 85.0970 - val_accuracy: 0.4000\n",
      "Epoch 10/10\n",
      "1/1 [==============================] - 0s 38ms/step - loss: 85.0970 - accuracy: 0.4000 - val_loss: 136.2112 - val_accuracy: 0.4000\n"
     ]
    }
   ],
   "source": [
    "# Check the trainning accuracy\n",
    "history = model.fit(\n",
    "    X_train,\n",
    "    y_train,\n",
    "    epochs=10,\n",
    "    validation_data=(X_train, y_train)\n",
    ")"
   ]
  },
  {
   "cell_type": "code",
   "execution_count": 49,
   "id": "82a19afc",
   "metadata": {
    "scrolled": true
   },
   "outputs": [
    {
     "name": "stdout",
     "output_type": "stream",
     "text": [
      "(2, 50)\n",
      "(1, 2, 50)\n",
      "Pred [[1. 0. 0. 0. 0.]]: Real Label 0.0\n"
     ]
    }
   ],
   "source": [
    "# Prediction example\n",
    "\n",
    "\n",
    "pred = model.predict( np.expand_dims(X_train[0], axis=0) )\n",
    "print(f\"Pred {pred}: Real Label {y_train[0]}\")"
   ]
  },
  {
   "cell_type": "code",
   "execution_count": null,
   "id": "d3cadaac",
   "metadata": {},
   "outputs": [],
   "source": [
    "ktfuhgdkjfhg\n",
    "sdrser9"
   ]
  }
 ],
 "metadata": {
  "kernelspec": {
   "display_name": "model",
   "language": "python",
   "name": "model"
  },
  "language_info": {
   "codemirror_mode": {
    "name": "ipython",
    "version": 3
   },
   "file_extension": ".py",
   "mimetype": "text/x-python",
   "name": "python",
   "nbconvert_exporter": "python",
   "pygments_lexer": "ipython3",
   "version": "3.8.12"
  }
 },
 "nbformat": 4,
 "nbformat_minor": 5
}
