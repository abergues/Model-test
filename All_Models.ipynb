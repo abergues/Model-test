{
 "cells": [
  {
   "cell_type": "code",
   "execution_count": 2,
   "id": "de1fd533",
   "metadata": {},
   "outputs": [],
   "source": [
    "import tensorflow as tf\n",
    "from tensorflow import keras\n",
    "from tensorflow.keras import models, layers\n",
    "import numpy as np\n",
    "import pandas as pd\n",
    "import matplotlib.pyplot as plt"
   ]
  },
  {
   "cell_type": "code",
   "execution_count": 4,
   "id": "9466bb8d",
   "metadata": {},
   "outputs": [
    {
     "name": "stdout",
     "output_type": "stream",
     "text": [
      "/Users/anabergues/Documents/Study/2021-DSR/Portfolio/Model-test\r\n"
     ]
    }
   ],
   "source": [
    "!pwd"
   ]
  },
  {
   "cell_type": "code",
   "execution_count": 10,
   "id": "51a8bf67",
   "metadata": {},
   "outputs": [],
   "source": [
    "# Fixing format of the data\n",
    "def enc_label(label):\n",
    "    code = 0\n",
    "    if label == \"right-turn\":\n",
    "        code = 1\n",
    "    if label == \"side\":\n",
    "        code = 2\n",
    "    if label == \"cuban-basic\":\n",
    "        code = 3\n",
    "    if label == \"suzie-q\":\n",
    "        code = 4\n",
    "    return code"
   ]
  },
  {
   "cell_type": "code",
   "execution_count": 5,
   "id": "523bd976",
   "metadata": {},
   "outputs": [
    {
     "name": "stderr",
     "output_type": "stream",
     "text": [
      "/opt/anaconda3/envs/model/lib/python3.8/site-packages/IPython/core/interactiveshell.py:3457: DtypeWarning: Columns (78,79) have mixed types.Specify dtype option on import or set low_memory=False.\n",
      "  exec(code_obj, self.user_global_ns, self.user_ns)\n"
     ]
    }
   ],
   "source": [
    "# Define hyperparameters\n",
    "BATCH_SIZE = 64\n",
    "EPOCHS = 10\n",
    "\n",
    "MAX_SEQ_LENGTH = 30   # number of frames per figure\n",
    "NUM_FEATURES = 50     # number of join coordinates\n",
    "no_sample = 20        # number of examples\n",
    "\n",
    "# Import the data\n",
    "PATH_DATA = \"Data_concat.csv\"\n",
    "data = pd.read_csv(PATH_DATA)"
   ]
  },
  {
   "cell_type": "code",
   "execution_count": 7,
   "id": "6c0f6100",
   "metadata": {},
   "outputs": [
    {
     "data": {
      "text/html": [
       "<div>\n",
       "<style scoped>\n",
       "    .dataframe tbody tr th:only-of-type {\n",
       "        vertical-align: middle;\n",
       "    }\n",
       "\n",
       "    .dataframe tbody tr th {\n",
       "        vertical-align: top;\n",
       "    }\n",
       "\n",
       "    .dataframe thead th {\n",
       "        text-align: right;\n",
       "    }\n",
       "</style>\n",
       "<table border=\"1\" class=\"dataframe\">\n",
       "  <thead>\n",
       "    <tr style=\"text-align: right;\">\n",
       "      <th></th>\n",
       "      <th>clip_name</th>\n",
       "      <th>frame_nr</th>\n",
       "      <th>person_id</th>\n",
       "      <th>nose_x</th>\n",
       "      <th>nose_y</th>\n",
       "      <th>neck_x</th>\n",
       "      <th>neck_y</th>\n",
       "      <th>rshoulder_x</th>\n",
       "      <th>rshoulder_y</th>\n",
       "      <th>relbow_x</th>\n",
       "      <th>...</th>\n",
       "      <th>rear_v</th>\n",
       "      <th>lear_v</th>\n",
       "      <th>lbigtoe_v</th>\n",
       "      <th>lsmalltoe_v</th>\n",
       "      <th>lheal_v</th>\n",
       "      <th>rbigtoe_v</th>\n",
       "      <th>rsmalltoe_v</th>\n",
       "      <th>rheal_v</th>\n",
       "      <th>label</th>\n",
       "      <th>status</th>\n",
       "    </tr>\n",
       "  </thead>\n",
       "  <tbody>\n",
       "    <tr>\n",
       "      <th>0</th>\n",
       "      <td>1p_Artur_05122021_chreo1</td>\n",
       "      <td>0</td>\n",
       "      <td>NaN</td>\n",
       "      <td>NaN</td>\n",
       "      <td>NaN</td>\n",
       "      <td>NaN</td>\n",
       "      <td>NaN</td>\n",
       "      <td>NaN</td>\n",
       "      <td>NaN</td>\n",
       "      <td>NaN</td>\n",
       "      <td>...</td>\n",
       "      <td>NaN</td>\n",
       "      <td>NaN</td>\n",
       "      <td>NaN</td>\n",
       "      <td>NaN</td>\n",
       "      <td>NaN</td>\n",
       "      <td>NaN</td>\n",
       "      <td>NaN</td>\n",
       "      <td>NaN</td>\n",
       "      <td>NaN</td>\n",
       "      <td>NaN</td>\n",
       "    </tr>\n",
       "    <tr>\n",
       "      <th>1</th>\n",
       "      <td>1p_Artur_05122021_chreo1</td>\n",
       "      <td>1</td>\n",
       "      <td>NaN</td>\n",
       "      <td>NaN</td>\n",
       "      <td>NaN</td>\n",
       "      <td>NaN</td>\n",
       "      <td>NaN</td>\n",
       "      <td>NaN</td>\n",
       "      <td>NaN</td>\n",
       "      <td>NaN</td>\n",
       "      <td>...</td>\n",
       "      <td>NaN</td>\n",
       "      <td>NaN</td>\n",
       "      <td>NaN</td>\n",
       "      <td>NaN</td>\n",
       "      <td>NaN</td>\n",
       "      <td>NaN</td>\n",
       "      <td>NaN</td>\n",
       "      <td>NaN</td>\n",
       "      <td>NaN</td>\n",
       "      <td>NaN</td>\n",
       "    </tr>\n",
       "    <tr>\n",
       "      <th>2</th>\n",
       "      <td>1p_Artur_05122021_chreo1</td>\n",
       "      <td>2</td>\n",
       "      <td>NaN</td>\n",
       "      <td>NaN</td>\n",
       "      <td>NaN</td>\n",
       "      <td>NaN</td>\n",
       "      <td>NaN</td>\n",
       "      <td>NaN</td>\n",
       "      <td>NaN</td>\n",
       "      <td>NaN</td>\n",
       "      <td>...</td>\n",
       "      <td>NaN</td>\n",
       "      <td>NaN</td>\n",
       "      <td>NaN</td>\n",
       "      <td>NaN</td>\n",
       "      <td>NaN</td>\n",
       "      <td>NaN</td>\n",
       "      <td>NaN</td>\n",
       "      <td>NaN</td>\n",
       "      <td>NaN</td>\n",
       "      <td>NaN</td>\n",
       "    </tr>\n",
       "    <tr>\n",
       "      <th>3</th>\n",
       "      <td>1p_Artur_05122021_chreo1</td>\n",
       "      <td>3</td>\n",
       "      <td>NaN</td>\n",
       "      <td>NaN</td>\n",
       "      <td>NaN</td>\n",
       "      <td>NaN</td>\n",
       "      <td>NaN</td>\n",
       "      <td>NaN</td>\n",
       "      <td>NaN</td>\n",
       "      <td>NaN</td>\n",
       "      <td>...</td>\n",
       "      <td>NaN</td>\n",
       "      <td>NaN</td>\n",
       "      <td>NaN</td>\n",
       "      <td>NaN</td>\n",
       "      <td>NaN</td>\n",
       "      <td>NaN</td>\n",
       "      <td>NaN</td>\n",
       "      <td>NaN</td>\n",
       "      <td>NaN</td>\n",
       "      <td>NaN</td>\n",
       "    </tr>\n",
       "    <tr>\n",
       "      <th>4</th>\n",
       "      <td>1p_Artur_05122021_chreo1</td>\n",
       "      <td>4</td>\n",
       "      <td>NaN</td>\n",
       "      <td>NaN</td>\n",
       "      <td>NaN</td>\n",
       "      <td>NaN</td>\n",
       "      <td>NaN</td>\n",
       "      <td>NaN</td>\n",
       "      <td>NaN</td>\n",
       "      <td>NaN</td>\n",
       "      <td>...</td>\n",
       "      <td>NaN</td>\n",
       "      <td>NaN</td>\n",
       "      <td>NaN</td>\n",
       "      <td>NaN</td>\n",
       "      <td>NaN</td>\n",
       "      <td>NaN</td>\n",
       "      <td>NaN</td>\n",
       "      <td>NaN</td>\n",
       "      <td>NaN</td>\n",
       "      <td>NaN</td>\n",
       "    </tr>\n",
       "  </tbody>\n",
       "</table>\n",
       "<p>5 rows × 80 columns</p>\n",
       "</div>"
      ],
      "text/plain": [
       "                  clip_name  frame_nr  person_id  nose_x  nose_y  neck_x  \\\n",
       "0  1p_Artur_05122021_chreo1         0        NaN     NaN     NaN     NaN   \n",
       "1  1p_Artur_05122021_chreo1         1        NaN     NaN     NaN     NaN   \n",
       "2  1p_Artur_05122021_chreo1         2        NaN     NaN     NaN     NaN   \n",
       "3  1p_Artur_05122021_chreo1         3        NaN     NaN     NaN     NaN   \n",
       "4  1p_Artur_05122021_chreo1         4        NaN     NaN     NaN     NaN   \n",
       "\n",
       "   neck_y  rshoulder_x  rshoulder_y  relbow_x  ...  rear_v  lear_v  lbigtoe_v  \\\n",
       "0     NaN          NaN          NaN       NaN  ...     NaN     NaN        NaN   \n",
       "1     NaN          NaN          NaN       NaN  ...     NaN     NaN        NaN   \n",
       "2     NaN          NaN          NaN       NaN  ...     NaN     NaN        NaN   \n",
       "3     NaN          NaN          NaN       NaN  ...     NaN     NaN        NaN   \n",
       "4     NaN          NaN          NaN       NaN  ...     NaN     NaN        NaN   \n",
       "\n",
       "   lsmalltoe_v  lheal_v  rbigtoe_v  rsmalltoe_v  rheal_v  label  status  \n",
       "0          NaN      NaN        NaN          NaN      NaN    NaN     NaN  \n",
       "1          NaN      NaN        NaN          NaN      NaN    NaN     NaN  \n",
       "2          NaN      NaN        NaN          NaN      NaN    NaN     NaN  \n",
       "3          NaN      NaN        NaN          NaN      NaN    NaN     NaN  \n",
       "4          NaN      NaN        NaN          NaN      NaN    NaN     NaN  \n",
       "\n",
       "[5 rows x 80 columns]"
      ]
     },
     "execution_count": 7,
     "metadata": {},
     "output_type": "execute_result"
    }
   ],
   "source": [
    "data.head()"
   ]
  },
  {
   "cell_type": "code",
   "execution_count": 8,
   "id": "ba4b9d00",
   "metadata": {},
   "outputs": [],
   "source": [
    "# Data preprocessing, get the input X and the label y\n",
    "ind_start = data[data['status'] == \"S\"].index.tolist()\n",
    "ind_end = data[data['status'] == \"E\"].index.tolist()\n",
    "\n",
    "# Take intervals between consecutive \"S\", they define one figure\n",
    "X = []\n",
    "y = []\n",
    "\n",
    "for i in range(no_sample):\n",
    "    X.append(data.iloc[ind_start[i]: ind_end[i], 3:-27])  # the last 25 (visibility ) + 2\n",
    "    y.append(data.loc[ind_start[i], 'label'])"
   ]
  },
  {
   "cell_type": "code",
   "execution_count": 11,
   "id": "d908c0d1",
   "metadata": {},
   "outputs": [],
   "source": [
    "# select frames from the interval TODO should be uniform\n",
    "ind_samp = []\n",
    "\n",
    "for i in range(no_sample):\n",
    "    # Uniform\n",
    "    aux = np.linspace(ind_start[i]\n",
    "                      , ind_end[i]\n",
    "                      , MAX_SEQ_LENGTH\n",
    "                      , endpoint=False).astype(int)\n",
    "\n",
    "    # random\n",
    "    # aux = np.random.randint(ind_start[i], ind_end[i], MAX_SEQ_LENGTH)\n",
    "    # aux.sort()\n",
    "    ind_samp.append(aux)\n",
    "\n",
    "# TODO: decide between random and uniform sampling\n",
    "\n",
    "# Changing format of the data to be compatible with Tensor Flow\n",
    "X_train = [x.loc[ind_samp[ind], :].to_numpy() for (ind, x) in enumerate(X)]\n",
    "X_train = np.array(X_train)\n",
    "X_train = X_train.reshape(no_sample, MAX_SEQ_LENGTH, NUM_FEATURES).astype(\"float32\")\n",
    "# TODO: decide of the X values need to be normalized\n",
    "y_train = [enc_label(x) for x in y]\n",
    "y_train = np.array(y_train).astype(\"float32\")"
   ]
  },
  {
   "cell_type": "code",
   "execution_count": 12,
   "id": "67d70e99",
   "metadata": {},
   "outputs": [
    {
     "name": "stdout",
     "output_type": "stream",
     "text": [
      "Model: \"sequential\"\n",
      "_________________________________________________________________\n",
      " Layer (type)                Output Shape              Param #   \n",
      "=================================================================\n",
      " flatten (Flatten)           (None, 1500)              0         \n",
      "                                                                 \n",
      " dense (Dense)               (None, 128)               192128    \n",
      "                                                                 \n",
      " dense_1 (Dense)             (None, 64)                8256      \n",
      "                                                                 \n",
      " dense_2 (Dense)             (None, 5)                 325       \n",
      "                                                                 \n",
      "=================================================================\n",
      "Total params: 200,709\n",
      "Trainable params: 200,709\n",
      "Non-trainable params: 0\n",
      "_________________________________________________________________\n"
     ]
    },
    {
     "name": "stderr",
     "output_type": "stream",
     "text": [
      "2021-12-10 14:53:46.047652: I tensorflow/core/platform/cpu_feature_guard.cc:151] This TensorFlow binary is optimized with oneAPI Deep Neural Network Library (oneDNN) to use the following CPU instructions in performance-critical operations:  AVX2 FMA\n",
      "To enable them in other operations, rebuild TensorFlow with the appropriate compiler flags.\n"
     ]
    }
   ],
   "source": [
    "# Build the model\n",
    "# TODO: use functional way to build the model\n",
    "# eg: https://keras.io/examples/vision/video_classification/ (The sequence model)\n",
    "model = models.Sequential()\n",
    "model.add(layers.Flatten(input_shape=(MAX_SEQ_LENGTH, NUM_FEATURES)))\n",
    "model.add(layers.Dense(128, activation=\"relu\"))\n",
    "model.add(layers.Dense(64, activation=\"relu\"))\n",
    "model.add(layers.Dense(5, activation=\"softmax\"))\n",
    "model.summary()\n",
    "\n",
    "# Compile the model\n",
    "model.compile(\n",
    "    optimizer=\"adam\",\n",
    "    loss=\"sparse_categorical_crossentropy\",\n",
    "    metrics=[\"accuracy\"]\n",
    ")"
   ]
  },
  {
   "cell_type": "code",
   "execution_count": 17,
   "id": "ededc473",
   "metadata": {
    "scrolled": true
   },
   "outputs": [
    {
     "name": "stdout",
     "output_type": "stream",
     "text": [
      "Epoch 1/10\n",
      "4/4 [==============================] - 0s 67ms/step - loss: 29.7528 - accuracy: 0.6000 - val_loss: 48.6340 - val_accuracy: 0.5500\n",
      "Epoch 2/10\n",
      "4/4 [==============================] - 0s 22ms/step - loss: 45.4193 - accuracy: 0.5500 - val_loss: 30.8033 - val_accuracy: 0.6000\n",
      "Epoch 3/10\n",
      "4/4 [==============================] - 0s 17ms/step - loss: 28.9423 - accuracy: 0.5500 - val_loss: 17.5796 - val_accuracy: 0.7500\n",
      "Epoch 4/10\n",
      "4/4 [==============================] - 0s 22ms/step - loss: 24.0074 - accuracy: 0.6500 - val_loss: 19.2526 - val_accuracy: 0.7000\n",
      "Epoch 5/10\n",
      "4/4 [==============================] - 0s 16ms/step - loss: 21.6207 - accuracy: 0.6500 - val_loss: 2.9687 - val_accuracy: 0.9000\n",
      "Epoch 6/10\n",
      "4/4 [==============================] - 0s 31ms/step - loss: 8.5515 - accuracy: 0.8000 - val_loss: 20.2477 - val_accuracy: 0.7000\n",
      "Epoch 7/10\n",
      "4/4 [==============================] - 0s 35ms/step - loss: 32.8017 - accuracy: 0.7000 - val_loss: 43.0118 - val_accuracy: 0.6000\n",
      "Epoch 8/10\n",
      "4/4 [==============================] - 0s 22ms/step - loss: 33.2308 - accuracy: 0.6000 - val_loss: 31.9355 - val_accuracy: 0.5500\n",
      "Epoch 9/10\n",
      "4/4 [==============================] - 0s 51ms/step - loss: 26.7125 - accuracy: 0.7500 - val_loss: 17.8545 - val_accuracy: 0.6500\n",
      "Epoch 10/10\n",
      "4/4 [==============================] - 0s 16ms/step - loss: 13.6578 - accuracy: 0.8000 - val_loss: 20.2879 - val_accuracy: 0.6000\n"
     ]
    }
   ],
   "source": [
    "# Check the trainning accuracy\n",
    "history = model.fit(\n",
    "    X_train,\n",
    "    y_train,\n",
    "    epochs=10,\n",
    "    batch_size=5,\n",
    "    validation_data=(X_train, y_train)\n",
    ")"
   ]
  },
  {
   "cell_type": "code",
   "execution_count": 14,
   "id": "9e283946",
   "metadata": {},
   "outputs": [],
   "source": [
    "def render_history(history):\n",
    "    plt.plot(history[\"loss\"], label=\"loss\")\n",
    "    #plt.plot(history[\"val_loss\"], label=\"val_loss\")\n",
    "    plt.legend()\n",
    "    plt.title(\"Train losses\")\n",
    "    plt.show()\n",
    "    plt.close()\n",
    "\n",
    "    plt.plot(history[\"accuracy\"], label=\"accuracy\")\n",
    "    #plt.plot(history[\"val_accuracy\"], label=\"val_accuracy\")\n",
    "    plt.legend()\n",
    "    plt.title(\"Train accuracies\")\n",
    "    plt.show()\n",
    "    plt.close()"
   ]
  },
  {
   "cell_type": "code",
   "execution_count": 18,
   "id": "b2b1a6a6",
   "metadata": {},
   "outputs": [
    {
     "data": {
      "image/png": "[encoded data removed]",
      "text/plain": [
       "<Figure size 432x288 with 1 Axes>"
      ]
     },
     "metadata": {
      "needs_background": "light"
     },
     "output_type": "display_data"
    },
    {
     "data": {
      "image/png": "[encoded data removed]",
      "text/plain": [
       "<Figure size 432x288 with 1 Axes>"
      ]
     },
     "metadata": {
      "needs_background": "light"
     },
     "output_type": "display_data"
    }
   ],
   "source": [
    "render_history(history.history)"
   ]
  }
 ],
 "metadata": {
  "kernelspec": {
   "display_name": "model",
   "language": "python",
   "name": "model"
  },
  "language_info": {
   "codemirror_mode": {
    "name": "ipython",
    "version": 3
   },
   "file_extension": ".py",
   "mimetype": "text/x-python",
   "name": "python",
   "nbconvert_exporter": "python",
   "pygments_lexer": "ipython3",
   "version": "3.8.12"
  }
 },
 "nbformat": 4,
 "nbformat_minor": 5
}
