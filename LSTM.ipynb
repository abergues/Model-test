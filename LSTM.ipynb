{
 "cells": [
  {
   "cell_type": "code",
   "execution_count": 1,
   "id": "31e16ef6",
   "metadata": {},
   "outputs": [],
   "source": [
    "import tensorflow as tf\n",
    "from tensorflow import keras\n",
    "from tensorflow.keras import models, layers\n",
    "import numpy as np\n",
    "import pandas as pd\n",
    "import matplotlib.pyplot as plt\n",
    "\n",
    "# Fixing format of the data\n",
    "def enc_label(label):\n",
    "    code = 0\n",
    "    if label == \"right-turn\":\n",
    "        code = 1\n",
    "    if label == \"side\":\n",
    "        code = 2\n",
    "    if label == \"cuban-basic\":\n",
    "        code = 3\n",
    "    if label == \"suzie-q\":\n",
    "        code = 4\n",
    "    return code\n",
    "\n",
    "# Define hyperparameters\n",
    "IMG_SIZE = 224\n",
    "BATCH_SIZE = 64\n",
    "EPOCHS = 10\n",
    "\n",
    "MAX_SEQ_LENGTH = 30   # number of frames\n",
    "NUM_FEATURES = 50     # number of join coordinates\n",
    "no_sample = 10\n",
    "\n",
    "# Import the data\n",
    "PATH_DATA = \"../Model-test/Data.csv\"\n",
    "data = pd.read_csv(PATH_DATA)\n",
    "\n",
    "# Exploratory analysis number of clases\n",
    "\n",
    "# Data preprocessing, get the input X and the label y\n",
    "ind_start = data[data['status'] == \"S\"].index.tolist()\n",
    "ind_end = data[data['status'] == \"E\"].index.tolist()\n",
    "\n",
    "# Take an interval between consecutive \"S\", one example\n",
    "X = []\n",
    "y = []\n",
    "\n",
    "for i in range(no_sample):\n",
    "    X.append(data.iloc[ind_start[i]: ind_end[i], 3:-2])\n",
    "    y.append(data.loc[ind_start[i], 'label'])\n",
    "\n",
    "# select 10 frames from the interval TODO should be uniform\n",
    "ind_samp = []\n",
    "\n",
    "for i in range(no_sample):\n",
    "    aux = np.random.randint(ind_start[i], ind_end[i], MAX_SEQ_LENGTH)\n",
    "    aux.sort()\n",
    "    ind_samp.append(aux)\n",
    "# TODO: make sure number are not repeated. Better to uniform sample the interval\n",
    "\n",
    "# Changing format of the data to be compatible with Tensor Flow\n",
    "X_train = [x.loc[ind_samp[ind], :].to_numpy() for (ind, x) in enumerate(X)]\n",
    "X_train = np.array(X_train)\n",
    "X_train = X_train.reshape(no_sample, MAX_SEQ_LENGTH, NUM_FEATURES).astype(\"float32\")\n",
    "# TODO: decide of the X values need to be normalized\n",
    "y_train = [enc_label(x) for x in y]\n",
    "y_train = np.array(y_train).astype(\"float32\")"
   ]
  },
  {
   "cell_type": "code",
   "execution_count": 6,
   "id": "6042e131",
   "metadata": {},
   "outputs": [
    {
     "name": "stdout",
     "output_type": "stream",
     "text": [
      "Model: \"sequential_4\"\n",
      "_________________________________________________________________\n",
      " Layer (type)                Output Shape              Param #   \n",
      "=================================================================\n",
      " lstm_4 (LSTM)               (None, 64)                29440     \n",
      "                                                                 \n",
      " dense_2 (Dense)             (None, 5)                 325       \n",
      "                                                                 \n",
      "=================================================================\n",
      "Total params: 29,765\n",
      "Trainable params: 29,765\n",
      "Non-trainable params: 0\n",
      "_________________________________________________________________\n"
     ]
    }
   ],
   "source": [
    "# Build the model\n",
    "model = models.Sequential()\n",
    "model.add(layers.InputLayer(input_shape=(MAX_SEQ_LENGTH, NUM_FEATURES)))\n",
    "model.add(layers.LSTM(64))\n",
    "model.add(layers.Dense(5, activation=\"softmax\"))\n",
    "model.summary()"
   ]
  },
  {
   "cell_type": "code",
   "execution_count": 7,
   "id": "46b0b487",
   "metadata": {},
   "outputs": [
    {
     "name": "stdout",
     "output_type": "stream",
     "text": [
      "Epoch 1/10\n",
      "1/1 [==============================] - 4s 4s/step - loss: 1.6629 - accuracy: 0.2000 - val_loss: 1.6838 - val_accuracy: 0.2000\n",
      "Epoch 2/10\n",
      "1/1 [==============================] - 0s 73ms/step - loss: 1.6838 - accuracy: 0.2000 - val_loss: 1.6104 - val_accuracy: 0.2000\n",
      "Epoch 3/10\n",
      "1/1 [==============================] - 0s 78ms/step - loss: 1.6104 - accuracy: 0.2000 - val_loss: 1.6068 - val_accuracy: 0.2000\n",
      "Epoch 4/10\n",
      "1/1 [==============================] - 0s 92ms/step - loss: 1.6068 - accuracy: 0.2000 - val_loss: 1.5889 - val_accuracy: 0.2000\n",
      "Epoch 5/10\n",
      "1/1 [==============================] - 0s 82ms/step - loss: 1.5889 - accuracy: 0.2000 - val_loss: 1.6059 - val_accuracy: 0.2000\n",
      "Epoch 6/10\n",
      "1/1 [==============================] - 0s 91ms/step - loss: 1.6059 - accuracy: 0.2000 - val_loss: 1.5977 - val_accuracy: 0.2000\n",
      "Epoch 7/10\n",
      "1/1 [==============================] - 0s 79ms/step - loss: 1.5977 - accuracy: 0.2000 - val_loss: 1.5993 - val_accuracy: 0.2000\n",
      "Epoch 8/10\n",
      "1/1 [==============================] - 0s 84ms/step - loss: 1.5993 - accuracy: 0.2000 - val_loss: 1.5826 - val_accuracy: 0.2000\n",
      "Epoch 9/10\n",
      "1/1 [==============================] - 0s 99ms/step - loss: 1.5826 - accuracy: 0.2000 - val_loss: 1.5819 - val_accuracy: 0.2000\n",
      "Epoch 10/10\n",
      "1/1 [==============================] - 0s 85ms/step - loss: 1.5819 - accuracy: 0.2000 - val_loss: 1.5806 - val_accuracy: 0.2000\n"
     ]
    }
   ],
   "source": [
    "# Compile the model\n",
    "model.compile(\n",
    "    optimizer=\"adam\",\n",
    "    loss=\"sparse_categorical_crossentropy\",\n",
    "    metrics=[\"accuracy\"]\n",
    ")\n",
    "\n",
    "# Check the trainning accuracy\n",
    "history = model.fit(\n",
    "    X_train,\n",
    "    y_train,\n",
    "    epochs=10,\n",
    "    validation_data=(X_train, y_train)\n",
    ")"
   ]
  }
 ],
 "metadata": {
  "kernelspec": {
   "display_name": "model",
   "language": "python",
   "name": "model"
  },
  "language_info": {
   "codemirror_mode": {
    "name": "ipython",
    "version": 3
   },
   "file_extension": ".py",
   "mimetype": "text/x-python",
   "name": "python",
   "nbconvert_exporter": "python",
   "pygments_lexer": "ipython3",
   "version": "3.8.12"
  }
 },
 "nbformat": 4,
 "nbformat_minor": 5
}
