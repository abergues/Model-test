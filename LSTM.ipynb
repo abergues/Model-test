{
 "cells": [
  {
   "cell_type": "code",
   "execution_count": 1,
   "id": "31e16ef6",
   "metadata": {},
   "outputs": [
    {
     "name": "stderr",
     "output_type": "stream",
     "text": [
      "/opt/anaconda3/envs/model/lib/python3.8/site-packages/IPython/core/interactiveshell.py:3457: DtypeWarning: Columns (78,79) have mixed types.Specify dtype option on import or set low_memory=False.\n",
      "  exec(code_obj, self.user_global_ns, self.user_ns)\n"
     ]
    }
   ],
   "source": [
    "import tensorflow as tf\n",
    "from tensorflow import keras\n",
    "from tensorflow.keras import models, layers\n",
    "import numpy as np\n",
    "import pandas as pd\n",
    "import matplotlib.pyplot as plt\n",
    "\n",
    "# First section takes care of preparing the data to feed the model\n",
    "# It is the same for all models\n",
    "\n",
    "# Fixing format of the data\n",
    "def enc_label(label):\n",
    "    code = 0\n",
    "    if label == \"right-turn\":\n",
    "        code = 1\n",
    "    if label == \"side\":\n",
    "        code = 2\n",
    "    if label == \"cuban-basic\":\n",
    "        code = 3\n",
    "    if label == \"suzie-q\":\n",
    "        code = 4\n",
    "    return code\n",
    "\n",
    "# Define hyperparameters\n",
    "BATCH_SIZE = 64\n",
    "EPOCHS = 10\n",
    "\n",
    "MAX_SEQ_LENGTH = 30   # number of frames per figure\n",
    "NUM_FEATURES = 50     # number of join coordinates\n",
    "no_sample = 20        # number of examples\n",
    "\n",
    "# Import the data\n",
    "PATH_DATA = \"Data_concat.csv\"\n",
    "data = pd.read_csv(PATH_DATA)\n",
    "\n",
    "# Exploratory analysis number of classes\n",
    "\n",
    "# Data preprocessing, get the input X and the label y\n",
    "ind_start = data[data['status'] == \"S\"].index.tolist()\n",
    "ind_end = data[data['status'] == \"E\"].index.tolist()\n",
    "\n",
    "# Take intervals between consecutive \"S\", they define one figure\n",
    "X = []\n",
    "y = []\n",
    "\n",
    "for i in range(no_sample):\n",
    "    X.append(data.iloc[ind_start[i]: ind_end[i], 3:-27])  # the last 25 (visibility ) + 2\n",
    "    y.append(data.loc[ind_start[i], 'label'])\n",
    "\n",
    "# select frames from the interval TODO should be uniform\n",
    "ind_samp = []\n",
    "\n",
    "for i in range(no_sample):\n",
    "    # Uniform\n",
    "    aux = np.linspace(ind_start[i]\n",
    "                      , ind_end[i]\n",
    "                      , MAX_SEQ_LENGTH\n",
    "                      , endpoint=False).astype(int)\n",
    "\n",
    "    # random\n",
    "    # aux = np.random.randint(ind_start[i], ind_end[i], MAX_SEQ_LENGTH)\n",
    "    # aux.sort()\n",
    "    ind_samp.append(aux)\n",
    "\n",
    "# TODO: decide between random and uniform sampling\n",
    "\n",
    "# Changing format of the data to be compatible with Tensor Flow\n",
    "X_train = [x.loc[ind_samp[ind], :].to_numpy() for (ind, x) in enumerate(X)]\n",
    "X_train = np.array(X_train)\n",
    "X_train = X_train.reshape(no_sample, MAX_SEQ_LENGTH, NUM_FEATURES).astype(\"float32\")\n",
    "# TODO: decide of the X values need to be normalized\n",
    "y_train = [enc_label(x) for x in y]\n",
    "y_train = np.array(y_train).astype(\"float32\")"
   ]
  },
  {
   "cell_type": "code",
   "execution_count": 4,
   "id": "6042e131",
   "metadata": {},
   "outputs": [
    {
     "name": "stdout",
     "output_type": "stream",
     "text": [
      "Model: \"sequential_1\"\n",
      "_________________________________________________________________\n",
      " Layer (type)                Output Shape              Param #   \n",
      "=================================================================\n",
      " lstm_1 (LSTM)               (None, 64)                29440     \n",
      "                                                                 \n",
      " dense_1 (Dense)             (None, 5)                 325       \n",
      "                                                                 \n",
      "=================================================================\n",
      "Total params: 29,765\n",
      "Trainable params: 29,765\n",
      "Non-trainable params: 0\n",
      "_________________________________________________________________\n"
     ]
    }
   ],
   "source": [
    "# Build the model\n",
    "model = models.Sequential()\n",
    "model.add(layers.InputLayer(input_shape=(MAX_SEQ_LENGTH, NUM_FEATURES)))\n",
    "model.add(layers.LSTM(64))\n",
    "model.add(layers.Dense(5, activation=\"softmax\"))\n",
    "model.summary()\n",
    "\n",
    "# Compile the model\n",
    "model.compile(\n",
    "    optimizer=\"adam\",\n",
    "    loss=\"sparse_categorical_crossentropy\",\n",
    "    metrics=[\"accuracy\"]\n",
    ")"
   ]
  },
  {
   "cell_type": "code",
   "execution_count": 5,
   "id": "46b0b487",
   "metadata": {
    "scrolled": true
   },
   "outputs": [
    {
     "name": "stdout",
     "output_type": "stream",
     "text": [
      "Epoch 1/10\n",
      "1/1 [==============================] - 3s 3s/step - loss: 1.6730 - accuracy: 0.3000 - val_loss: 1.5436 - val_accuracy: 0.3000\n",
      "Epoch 2/10\n",
      "1/1 [==============================] - 0s 65ms/step - loss: 1.5436 - accuracy: 0.3000 - val_loss: 1.5625 - val_accuracy: 0.4000\n",
      "Epoch 3/10\n",
      "1/1 [==============================] - 0s 80ms/step - loss: 1.5625 - accuracy: 0.4000 - val_loss: 1.5580 - val_accuracy: 0.3000\n",
      "Epoch 4/10\n",
      "1/1 [==============================] - 0s 69ms/step - loss: 1.5580 - accuracy: 0.3000 - val_loss: 1.5642 - val_accuracy: 0.4500\n",
      "Epoch 5/10\n",
      "1/1 [==============================] - 0s 71ms/step - loss: 1.5642 - accuracy: 0.4500 - val_loss: 1.4957 - val_accuracy: 0.5500\n",
      "Epoch 6/10\n",
      "1/1 [==============================] - 0s 65ms/step - loss: 1.4957 - accuracy: 0.5500 - val_loss: 1.5079 - val_accuracy: 0.4000\n",
      "Epoch 7/10\n",
      "1/1 [==============================] - 0s 77ms/step - loss: 1.5079 - accuracy: 0.4000 - val_loss: 1.4841 - val_accuracy: 0.3500\n",
      "Epoch 8/10\n",
      "1/1 [==============================] - 0s 69ms/step - loss: 1.4841 - accuracy: 0.3500 - val_loss: 1.4538 - val_accuracy: 0.5000\n",
      "Epoch 9/10\n",
      "1/1 [==============================] - 0s 89ms/step - loss: 1.4538 - accuracy: 0.5000 - val_loss: 1.4780 - val_accuracy: 0.4500\n",
      "Epoch 10/10\n",
      "1/1 [==============================] - 0s 92ms/step - loss: 1.4780 - accuracy: 0.4500 - val_loss: 1.4302 - val_accuracy: 0.5500\n"
     ]
    }
   ],
   "source": [
    "# Check the trainning accuracy\n",
    "history = model.fit(\n",
    "    X_train,\n",
    "    y_train,\n",
    "    epochs=10,\n",
    "    validation_data=(X_train, y_train)\n",
    ")"
   ]
  },
  {
   "cell_type": "code",
   "execution_count": 6,
   "id": "9bb03ef1",
   "metadata": {},
   "outputs": [],
   "source": [
    "def render_history(history):\n",
    "    plt.plot(history[\"loss\"], label=\"loss\")\n",
    "    #plt.plot(history[\"val_loss\"], label=\"val_loss\")\n",
    "    plt.legend()\n",
    "    plt.title(\"Train losses\")\n",
    "    plt.show()\n",
    "    plt.close()\n",
    "\n",
    "    plt.plot(history[\"accuracy\"], label=\"accuracy\")\n",
    "    #plt.plot(history[\"val_accuracy\"], label=\"val_accuracy\")\n",
    "    plt.legend()\n",
    "    plt.title(\"Train accuracies\")\n",
    "    plt.show()\n",
    "    plt.close()"
   ]
  },
  {
   "cell_type": "code",
   "execution_count": 7,
   "id": "0910807a",
   "metadata": {},
   "outputs": [
    {
     "data": {
      "image/png": "[encoded data removed]",
      "text/plain": [
       "<Figure size 432x288 with 1 Axes>"
      ]
     },
     "metadata": {
      "needs_background": "light"
     },
     "output_type": "display_data"
    },
    {
     "data": {
      "image/png": "[encoded data removed]",
      "text/plain": [
       "<Figure size 432x288 with 1 Axes>"
      ]
     },
     "metadata": {
      "needs_background": "light"
     },
     "output_type": "display_data"
    }
   ],
   "source": [
    "render_history(history.history)"
   ]
  }
 ],
 "metadata": {
  "kernelspec": {
   "display_name": "model",
   "language": "python",
   "name": "model"
  },
  "language_info": {
   "codemirror_mode": {
    "name": "ipython",
    "version": 3
   },
   "file_extension": ".py",
   "mimetype": "text/x-python",
   "name": "python",
   "nbconvert_exporter": "python",
   "pygments_lexer": "ipython3",
   "version": "3.8.12"
  }
 },
 "nbformat": 4,
 "nbformat_minor": 5
}
